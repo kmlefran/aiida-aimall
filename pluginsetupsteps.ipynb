{
 "cells": [
  {
   "cell_type": "markdown",
   "metadata": {},
   "source": [
    "# Initializing"
   ]
  },
  {
   "cell_type": "markdown",
   "metadata": {},
   "source": [
    "Starting with a template from (AiiDA Plugin Cutter)[https://github.com/aiidateam/aiida-plugin-cutter]\n",
    "\n",
    "Useful links: https://aiida.readthedocs.io/projects/aiida-core/en/latest/topics/plugins.html#guidelines-for-plugin-design\n",
    "\n",
    "https://aiida.readthedocs.io/projects/aiida-core/en/latest/howto/plugins.html\n",
    "\n",
    "https://github.com/aiidateam/aiida-diff#repository-contents"
   ]
  },
  {
   "cell_type": "markdown",
   "metadata": {},
   "source": [
    "1. Create development environment\n",
    "\n",
    "    i. `conda create -yn aiida-aim-dev -c conda-forge aiida-core`\n",
    "2. Create an AiiDA profile to use for testing development\n",
    "    \n",
    "    i. `verdi quicksetup`\n",
    "    \n",
    "    ii. Profile name: aiida-aim-test, set other inputs requested as makes sense (name, institution etc)\n",
    "   \n",
    "    iii. `verdi profile setdefault aiida-aim-test`\n",
    "3. Install a cookie cutter template\n",
    "\n",
    "    i. `pip install cookiecutter black`\n",
    "\n",
    "    ii. `cookiecutter https://github.com/aiidateam/aiida-plugin-cutter.git`\n",
    "\n",
    "    iii. Inputs:\n",
    "\n",
    "        * plugin_name: aiida-aimall\n",
    "\n",
    "        * module_name: aiida_aimall\n",
    "\n",
    "        * short_description: A plugin to interface AIMAll with AiiDA\n",
    "\n",
    "        * entry_point_prefix: aimall\n",
    "\n",
    "        * github_user: kmlefran\n",
    "\n",
    "        * repo_name: (default: aiida-aimall)\n",
    "\n",
    "        * contact_email: kgagnon@lakeheadu.ca\n",
    "\n",
    "        * version: (default: 0.1.0a0)\n",
    "\n",
    "        * author: Kevin Lefrancois-Gagnon\n",
    "\n",
    "        * aiida_min_version: (default: 2.0)\n",
    "        \n",
    "        * year: 2023\n"
   ]
  },
  {
   "cell_type": "markdown",
   "metadata": {},
   "source": []
  }
 ],
 "metadata": {
  "language_info": {
   "name": "python"
  },
  "orig_nbformat": 4
 },
 "nbformat": 4,
 "nbformat_minor": 2
}
