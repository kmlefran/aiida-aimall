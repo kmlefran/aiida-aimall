{
 "cells": [
  {
   "cell_type": "markdown",
   "metadata": {},
   "source": [
    "# Initializing"
   ]
  },
  {
   "cell_type": "markdown",
   "metadata": {},
   "source": [
    "Starting with a template from (AiiDA Plugin Cutter)[https://github.com/aiidateam/aiida-plugin-cutter]\n",
    "\n",
    "Useful links: https://aiida.readthedocs.io/projects/aiida-core/en/latest/topics/plugins.html#guidelines-for-plugin-design\n",
    "\n",
    "https://aiida.readthedocs.io/projects/aiida-core/en/latest/howto/plugins.html\n",
    "\n",
    "https://github.com/aiidateam/aiida-diff#repository-contents"
   ]
  },
  {
   "cell_type": "markdown",
   "metadata": {},
   "source": []
  }
 ],
 "metadata": {
  "language_info": {
   "name": "python"
  },
  "orig_nbformat": 4
 },
 "nbformat": 4,
 "nbformat_minor": 2
}
