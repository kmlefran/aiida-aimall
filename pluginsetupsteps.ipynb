{
 "cells": [
  {
   "cell_type": "markdown",
   "metadata": {},
   "source": [
    "# Initializing"
   ]
  },
  {
   "cell_type": "markdown",
   "metadata": {},
   "source": [
    "Starting with a template from (AiiDA Plugin Cutter)[https://github.com/aiidateam/aiida-plugin-cutter]\n",
    "\n",
    "Useful links: https://aiida.readthedocs.io/projects/aiida-core/en/latest/topics/plugins.html#guidelines-for-plugin-design\n",
    "\n",
    "https://aiida.readthedocs.io/projects/aiida-core/en/latest/howto/plugins.html\n",
    "\n",
    "https://aiida.readthedocs.io/projects/aiida-core/en/latest/topics/processes/usage.html#topics-processes-usage-defining\n",
    "\n",
    "https://aiida.readthedocs.io/projects/aiida-core/en/latest/howto/plugin_codes.html#how-to-plugin-codes-cli-options\n",
    "\n",
    "\n",
    "https://github.com/aiidateam/aiida-diff#repository-contents"
   ]
  },
  {
   "cell_type": "markdown",
   "metadata": {},
   "source": [
    "1. Create development environment\n",
    "\n",
    "    i. `conda create -yn aiida-aim-dev -c conda-forge aiida-core`\n",
    "2. Create an AiiDA profile to use for testing development\n",
    "    \n",
    "    i. `verdi quicksetup`\n",
    "    \n",
    "    ii. Profile name: aiida-aim-test, set other inputs requested as makes sense (name, institution etc)\n",
    "   \n",
    "    iii. `verdi profile setdefault aiida-aim-test`\n",
    "3. Install a cookie cutter template\n",
    "\n",
    "    i. `pip install cookiecutter black`\n",
    "\n",
    "    ii. `cookiecutter https://github.com/aiidateam/aiida-plugin-cutter.git`\n",
    "\n",
    "    iii. Inputs:\n",
    "\n",
    "        * plugin_name: aiida-aimall\n",
    "\n",
    "        * module_name: aiida_aimall\n",
    "\n",
    "        * short_description: A plugin to interface AIMAll with AiiDA\n",
    "\n",
    "        * entry_point_prefix: aimall\n",
    "\n",
    "        * github_user: kmlefran\n",
    "\n",
    "        * repo_name: (default: aiida-aimall)\n",
    "\n",
    "        * contact_email: kgagnon@lakeheadu.ca\n",
    "\n",
    "        * version: (default: 0.1.0a0)\n",
    "\n",
    "        * author: Kevin Lefrancois-Gagnon\n",
    "\n",
    "        * aiida_min_version: (default: 2.0)\n",
    "        \n",
    "        * year: 2023\n",
    "4. Adjust data/__init__.py to create AimqbParameters class as a modification of DiffParameters. Update command line options to encompass AIMAll options\n",
    "5. Adjust calculations.py to create AimqbCalculation as a modification of Diff Calculation, with some extra lines from aiida-gaussian https://github.com/nanotech-empa/aiida-gaussian/tree/master\n",
    "6. Adjust pyproject.toml removing references to DiffCalculation and DiffParameters, replacing them with AimqbParameters and AimqbCalculation\n"
   ]
  },
  {
   "cell_type": "markdown",
   "metadata": {},
   "source": []
  },
  {
   "cell_type": "code",
   "execution_count": 1,
   "metadata": {},
   "outputs": [],
   "source": [
    "dict = {'a':1,'b':2}"
   ]
  },
  {
   "cell_type": "code",
   "execution_count": 2,
   "metadata": {},
   "outputs": [
    {
     "ename": "AttributeError",
     "evalue": "'dict' object has no attribute 'c'",
     "output_type": "error",
     "traceback": [
      "\u001b[0;31m---------------------------------------------------------------------------\u001b[0m",
      "\u001b[0;31mAttributeError\u001b[0m                            Traceback (most recent call last)",
      "\u001b[1;32m/Users/chemlab/Documents/Coding/LearningAiiDa/aiida-aimall/pluginsetupsteps.ipynb Cell 6\u001b[0m line \u001b[0;36m1\n\u001b[0;32m----> <a href='vscode-notebook-cell:/Users/chemlab/Documents/Coding/LearningAiiDa/aiida-aimall/pluginsetupsteps.ipynb#W5sZmlsZQ%3D%3D?line=0'>1</a>\u001b[0m \u001b[39mdict\u001b[39;49m\u001b[39m.\u001b[39;49mc \u001b[39m=\u001b[39m \u001b[39m3\u001b[39m\n",
      "\u001b[0;31mAttributeError\u001b[0m: 'dict' object has no attribute 'c'"
     ]
    }
   ],
   "source": [
    "dict.c = 3"
   ]
  },
  {
   "cell_type": "code",
   "execution_count": 3,
   "metadata": {},
   "outputs": [],
   "source": [
    "dict['c'] = 3"
   ]
  },
  {
   "cell_type": "code",
   "execution_count": 4,
   "metadata": {},
   "outputs": [
    {
     "data": {
      "text/plain": [
       "{'a': 1, 'b': 2, 'c': 3}"
      ]
     },
     "execution_count": 4,
     "metadata": {},
     "output_type": "execute_result"
    }
   ],
   "source": [
    "dict"
   ]
  },
  {
   "cell_type": "code",
   "execution_count": null,
   "metadata": {},
   "outputs": [],
   "source": [
    "bc"
   ]
  }
 ],
 "metadata": {
  "kernelspec": {
   "display_name": "aiida3",
   "language": "python",
   "name": "python3"
  },
  "language_info": {
   "codemirror_mode": {
    "name": "ipython",
    "version": 3
   },
   "file_extension": ".py",
   "mimetype": "text/x-python",
   "name": "python",
   "nbconvert_exporter": "python",
   "pygments_lexer": "ipython3",
   "version": "3.11.5"
  },
  "orig_nbformat": 4
 },
 "nbformat": 4,
 "nbformat_minor": 2
}
