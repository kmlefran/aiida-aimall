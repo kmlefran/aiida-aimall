{
 "cells": [
  {
   "cell_type": "markdown",
   "metadata": {},
   "source": [
    "# Using AimqbGroup Parser to Compute Group Properties"
   ]
  },
  {
   "cell_type": "markdown",
   "metadata": {},
   "source": [
    "## Background"
   ]
  },
  {
   "cell_type": "markdown",
   "metadata": {},
   "source": [
    "Properties of functional groups, R, are available to be computed in `aiida-aimall`. The authors have published numerous works calculating these properties. For most properties, group properties are available by simply summing the atomic properties of the atoms in the group. The exception is for quadrupole moments, where the formula from Laidig's 1991 paper is used.\n",
    "\n",
    "$$ \\textbf{Q}(R) = \\frac{1}{2}\\sum_{\\Omega\\in R} [ 3( q(\\Omega)\\chi_\\Omega^\\alpha\\chi_\\Omega^\\beta + \\frac{Q_{\\alpha\\beta}(\\Omega)+\\delta_{\\alpha\\beta}\\braket{r^2}_\\Omega}{3} + \\chi_\\Omega^\\beta \\mu^{p,\\alpha}(\\Omega) + \\chi_\\Omega^\\alpha \\mu^{p, \\beta}(\\Omega)) - \\delta_{\\alpha\\beta}(Q_{\\gamma\\gamma}) ]$$"
   ]
  },
  {
   "cell_type": "markdown",
   "metadata": {},
   "source": [
    "Further, delocalization indeces between the substituent and the substrate to which is attached are also calculated by summing pairwise delocalization indeces between atoms in the group and those not.\n",
    "\n",
    "$$ DI(R,G) = \\sum_{\\Omega\\in R}\\sum_{\\Lambda\\in G} DI(\\Omega,\\Lambda)$$"
   ]
  },
  {
   "cell_type": "markdown",
   "metadata": {},
   "source": [
    "The group properties are designed to be calculated in a molecule treated in only two parts - the substituent, R and the substrate, G. All atoms are either assigned to either the substrate or substituent, and the substituent should be connected amongst itself. Inputs for the atoms can be provided to `AimqbCalculation` to enable use of the `AimqbGroupParser`. These are provided as `group_atoms`, a List of atom integer numeric labels corresponding to the atom order in the input file. Further, the atom of the substituent attached to the substrate should be given as `attached_atom_int`. An example is shown here for the methyl substituent attached to a generic substrate G."
   ]
  },
  {
   "cell_type": "markdown",
   "metadata": {},
   "source": [
    "![alt text](images/coordsystem.png \"Title\")"
   ]
  },
  {
   "cell_type": "markdown",
   "metadata": {},
   "source": [
    "Default parameters are provided. By the authors' convention, 1 is the default for the atom in the substituent that is attached to the substrate. Further, the default substrate is assumed to be a single atom, with numeric label 2. Therefore, the default value of `group_atoms` is every atom in the molecule whose label is not 2. If the `group_atoms` and `attached_atom_int` are not provided, these values are used. \n",
    "\n",
    "With the definitions in place, computing group properties with `AimqbGroupCalculation` is simple, providing this additional input, and specifying the `AimqbGroupParser`."
   ]
  },
  {
   "cell_type": "markdown",
   "metadata": {},
   "source": [
    "## Setting Up `AimqbCalculations` with `AimqbGroupParser`"
   ]
  },
  {
   "cell_type": "code",
   "execution_count": 5,
   "metadata": {},
   "outputs": [],
   "source": [
    "from aiida import load_profile\n",
    "from aiida.orm import load_code, load_node, List, Int\n",
    "from aiida.engine import submit\n",
    "from aiida.plugins import CalculationFactory, DataFactory\n",
    "\n",
    "# Define inputs similarly to the base AimqbCalculation tutorial\n",
    "load_profile()\n",
    "AimqbParameters = DataFactory('aimall.aimqb')\n",
    "AimqbCalculation = CalculationFactory('aimall.aimqb')\n",
    "input_file = load_node('b6710cfe')\n",
    "aim_code = load_code('aimall@localhost')\n",
    "aim_input = AimqbParameters({'nproc':2,'naat':2,'atlaprhocps':True})\n",
    "builder = AimqbCalculation.get_builder()\n",
    "\n",
    "builder.parameters = aim_input\n",
    "builder.file = input_file\n",
    "builder.code = aim_code\n",
    "builder.metadata.options.resources = {\"num_machines\": 1, \"tot_num_mpiprocs\": 2}\n",
    "\n",
    "# New inputs for the group parser, here there are 18 atoms, and only atom 2 (index 1) is not in the substituent\n",
    "builder.metadata.options.parser_name = \"aimall.group\"\n",
    "builder.group_atoms = List([x + 1 for x in range(0, 18) if x != 1])\n",
    "builder.attached_atom_int = Int(1)\n",
    "calc_node = submit(builder)"
   ]
  },
  {
   "cell_type": "markdown",
   "metadata": {},
   "source": [
    "## `AimqbGroupParser` Output"
   ]
  },
  {
   "cell_type": "markdown",
   "metadata": {},
   "source": [
    "The provenance graph will have the same structure as that for using the `AimqbBaseParser`. The difference is in the keys of output_parameters."
   ]
  },
  {
   "cell_type": "code",
   "execution_count": 7,
   "metadata": {},
   "outputs": [
    {
     "data": {
      "image/svg+xml": [
       "<?xml version=\"1.0\" encoding=\"UTF-8\" standalone=\"no\"?>\n",
       "<!DOCTYPE svg PUBLIC \"-//W3C//DTD SVG 1.1//EN\"\n",
       " \"http://www.w3.org/Graphics/SVG/1.1/DTD/svg11.dtd\">\n",
       "<!-- Generated by graphviz version 11.0.0 (20240428.1522)\n",
       " -->\n",
       "<!-- Pages: 1 -->\n",
       "<svg width=\"432pt\" height=\"161pt\"\n",
       " viewBox=\"0.00 0.00 432.00 161.33\" xmlns=\"http://www.w3.org/2000/svg\" xmlns:xlink=\"http://www.w3.org/1999/xlink\">\n",
       "<g id=\"graph0\" class=\"graph\" transform=\"scale(0.493384 0.493384) rotate(0) translate(4 322.98)\">\n",
       "<polygon fill=\"white\" stroke=\"none\" points=\"-4,4 -4,-322.98 871.59,-322.98 871.59,4 -4,4\"/>\n",
       "<!-- N4 -->\n",
       "<g id=\"node1\" class=\"node\">\n",
       "<title>N4</title>\n",
       "<ellipse fill=\"#8cd499\" stroke=\"black\" stroke-width=\"0\" cx=\"114.82\" cy=\"-289.99\" rx=\"79.2\" ry=\"28.99\"/>\n",
       "<text text-anchor=\"middle\" x=\"114.82\" y=\"-293.19\" font-family=\"Times,serif\" font-size=\"14.00\">InstalledCode (4)</text>\n",
       "<text text-anchor=\"middle\" x=\"114.82\" y=\"-276.69\" font-family=\"Times,serif\" font-size=\"14.00\">aimall@localhost</text>\n",
       "</g>\n",
       "<!-- N114138 -->\n",
       "<g id=\"node6\" class=\"node\">\n",
       "<title>N114138</title>\n",
       "<polygon fill=\"#de707f\" stroke=\"black\" stroke-width=\"0\" points=\"535.88,-178.74 366.13,-178.74 366.13,-121.24 535.88,-121.24 535.88,-178.74\"/>\n",
       "<text text-anchor=\"middle\" x=\"451.01\" y=\"-161.44\" font-family=\"Times,serif\" font-size=\"14.00\">AimqbCalculation (114138)</text>\n",
       "<text text-anchor=\"middle\" x=\"451.01\" y=\"-144.94\" font-family=\"Times,serif\" font-size=\"14.00\">State: finished</text>\n",
       "<text text-anchor=\"middle\" x=\"451.01\" y=\"-128.44\" font-family=\"Times,serif\" font-size=\"14.00\">Exit Code: 0</text>\n",
       "</g>\n",
       "<!-- N4&#45;&gt;N114138 -->\n",
       "<g id=\"edge1\" class=\"edge\">\n",
       "<title>N4&#45;&gt;N114138</title>\n",
       "<path fill=\"none\" stroke=\"#000000\" d=\"M191.48,-283.07C238.53,-276.47 299.19,-263.67 348.13,-238.99 373.77,-226.06 398.16,-205.18 416.64,-186.89\"/>\n",
       "<polygon fill=\"#000000\" stroke=\"#000000\" points=\"419.12,-189.37 423.64,-179.79 414.13,-184.45 419.12,-189.37\"/>\n",
       "<text text-anchor=\"middle\" x=\"297.88\" y=\"-291.69\" font-family=\"Times,serif\" font-size=\"14.00\">INPUT_CALC</text>\n",
       "<text text-anchor=\"middle\" x=\"297.88\" y=\"-275.19\" font-family=\"Times,serif\" font-size=\"14.00\">code</text>\n",
       "</g>\n",
       "<!-- N46050 -->\n",
       "<g id=\"node2\" class=\"node\">\n",
       "<title>N46050</title>\n",
       "<ellipse fill=\"#8cd499\" stroke=\"black\" stroke-width=\"0\" cx=\"114.82\" cy=\"-213.99\" rx=\"99.35\" ry=\"28.99\"/>\n",
       "<text text-anchor=\"middle\" x=\"114.82\" y=\"-217.19\" font-family=\"Times,serif\" font-size=\"14.00\">SinglefileData (46050)</text>\n",
       "<text text-anchor=\"middle\" x=\"114.82\" y=\"-200.69\" font-family=\"Times,serif\" font-size=\"14.00\">file.txt</text>\n",
       "</g>\n",
       "<!-- N46050&#45;&gt;N114138 -->\n",
       "<g id=\"edge4\" class=\"edge\">\n",
       "<title>N46050&#45;&gt;N114138</title>\n",
       "<path fill=\"none\" stroke=\"#000000\" d=\"M211.3,-207.25C253.6,-203.04 303.73,-196.38 348.13,-185.99 353.28,-184.79 358.54,-183.41 363.8,-181.91\"/>\n",
       "<polygon fill=\"#000000\" stroke=\"#000000\" points=\"364.58,-185.33 373.17,-179.13 362.58,-178.63 364.58,-185.33\"/>\n",
       "<text text-anchor=\"middle\" x=\"297.88\" y=\"-221.69\" font-family=\"Times,serif\" font-size=\"14.00\">INPUT_CALC</text>\n",
       "<text text-anchor=\"middle\" x=\"297.88\" y=\"-205.19\" font-family=\"Times,serif\" font-size=\"14.00\">file</text>\n",
       "</g>\n",
       "<!-- N114135 -->\n",
       "<g id=\"node3\" class=\"node\">\n",
       "<title>N114135</title>\n",
       "<ellipse fill=\"#8cd499\" stroke=\"black\" stroke-width=\"0\" cx=\"114.82\" cy=\"-148.99\" rx=\"114.82\" ry=\"18\"/>\n",
       "<text text-anchor=\"middle\" x=\"114.82\" y=\"-143.94\" font-family=\"Times,serif\" font-size=\"14.00\">AimqbParameters (114135)</text>\n",
       "</g>\n",
       "<!-- N114135&#45;&gt;N114138 -->\n",
       "<g id=\"edge2\" class=\"edge\">\n",
       "<title>N114135&#45;&gt;N114138</title>\n",
       "<path fill=\"none\" stroke=\"#000000\" d=\"M229.42,-149.33C270.24,-149.45 315.82,-149.59 354.9,-149.71\"/>\n",
       "<polygon fill=\"#000000\" stroke=\"#000000\" points=\"354.75,-153.21 364.76,-149.74 354.77,-146.21 354.75,-153.21\"/>\n",
       "<text text-anchor=\"middle\" x=\"297.88\" y=\"-168.69\" font-family=\"Times,serif\" font-size=\"14.00\">INPUT_CALC</text>\n",
       "<text text-anchor=\"middle\" x=\"297.88\" y=\"-152.19\" font-family=\"Times,serif\" font-size=\"14.00\">parameters</text>\n",
       "</g>\n",
       "<!-- N114136 -->\n",
       "<g id=\"node4\" class=\"node\">\n",
       "<title>N114136</title>\n",
       "<ellipse fill=\"#8cd499\" stroke=\"black\" stroke-width=\"0\" cx=\"114.82\" cy=\"-93.99\" rx=\"61.59\" ry=\"18\"/>\n",
       "<text text-anchor=\"middle\" x=\"114.82\" y=\"-88.94\" font-family=\"Times,serif\" font-size=\"14.00\">List (114136)</text>\n",
       "</g>\n",
       "<!-- N114136&#45;&gt;N114138 -->\n",
       "<g id=\"edge5\" class=\"edge\">\n",
       "<title>N114136&#45;&gt;N114138</title>\n",
       "<path fill=\"none\" stroke=\"#000000\" d=\"M176.17,-94.07C223.47,-95.23 290.65,-99.31 348.13,-111.99 355.38,-113.59 362.8,-115.59 370.17,-117.84\"/>\n",
       "<polygon fill=\"#000000\" stroke=\"#000000\" points=\"368.88,-121.1 379.47,-120.82 371.02,-114.44 368.88,-121.1\"/>\n",
       "<text text-anchor=\"middle\" x=\"297.88\" y=\"-131.69\" font-family=\"Times,serif\" font-size=\"14.00\">INPUT_CALC</text>\n",
       "<text text-anchor=\"middle\" x=\"297.88\" y=\"-115.19\" font-family=\"Times,serif\" font-size=\"14.00\">group_atoms</text>\n",
       "</g>\n",
       "<!-- N114137 -->\n",
       "<g id=\"node5\" class=\"node\">\n",
       "<title>N114137</title>\n",
       "<ellipse fill=\"#8cd499\" stroke=\"black\" stroke-width=\"0\" cx=\"114.82\" cy=\"-28.99\" rx=\"59.57\" ry=\"28.99\"/>\n",
       "<text text-anchor=\"middle\" x=\"114.82\" y=\"-32.19\" font-family=\"Times,serif\" font-size=\"14.00\">Int (114137)</text>\n",
       "<text text-anchor=\"middle\" x=\"114.82\" y=\"-15.69\" font-family=\"Times,serif\" font-size=\"14.00\">value: 1</text>\n",
       "</g>\n",
       "<!-- N114137&#45;&gt;N114138 -->\n",
       "<g id=\"edge3\" class=\"edge\">\n",
       "<title>N114137&#45;&gt;N114138</title>\n",
       "<path fill=\"none\" stroke=\"#000000\" d=\"M174.22,-27.9C222.82,-29.08 292.74,-35.76 348.13,-60.99 374.75,-73.12 399.59,-94.52 418.07,-113.29\"/>\n",
       "<polygon fill=\"#000000\" stroke=\"#000000\" points=\"415.36,-115.52 424.8,-120.32 420.41,-110.68 415.36,-115.52\"/>\n",
       "<text text-anchor=\"middle\" x=\"297.88\" y=\"-80.69\" font-family=\"Times,serif\" font-size=\"14.00\">INPUT_CALC</text>\n",
       "<text text-anchor=\"middle\" x=\"297.88\" y=\"-64.19\" font-family=\"Times,serif\" font-size=\"14.00\">attached_atom_int</text>\n",
       "</g>\n",
       "<!-- N114139 -->\n",
       "<g id=\"node7\" class=\"node\">\n",
       "<title>N114139</title>\n",
       "<ellipse fill=\"#8cd499\" stroke=\"black\" stroke-width=\"0\" cx=\"770.36\" cy=\"-214.99\" rx=\"97.23\" ry=\"28.99\"/>\n",
       "<text text-anchor=\"middle\" x=\"770.36\" y=\"-218.19\" font-family=\"Times,serif\" font-size=\"14.00\">RemoteData (114139)</text>\n",
       "<text text-anchor=\"middle\" x=\"770.36\" y=\"-201.69\" font-family=\"Times,serif\" font-size=\"14.00\">@localhost</text>\n",
       "</g>\n",
       "<!-- N114138&#45;&gt;N114139 -->\n",
       "<g id=\"edge7\" class=\"edge\">\n",
       "<title>N114138&#45;&gt;N114139</title>\n",
       "<path fill=\"none\" stroke=\"#000000\" d=\"M525.15,-178.71C534.72,-181.83 544.47,-184.7 553.88,-186.99 589.68,-195.71 629.54,-201.85 665.13,-206.11\"/>\n",
       "<polygon fill=\"#000000\" stroke=\"#000000\" points=\"664.69,-209.58 675.03,-207.26 665.5,-202.63 664.69,-209.58\"/>\n",
       "<text text-anchor=\"middle\" x=\"604.51\" y=\"-223.69\" font-family=\"Times,serif\" font-size=\"14.00\">CREATE</text>\n",
       "<text text-anchor=\"middle\" x=\"604.51\" y=\"-207.19\" font-family=\"Times,serif\" font-size=\"14.00\">remote_folder</text>\n",
       "</g>\n",
       "<!-- N114140 -->\n",
       "<g id=\"node8\" class=\"node\">\n",
       "<title>N114140</title>\n",
       "<ellipse fill=\"#8cd499\" stroke=\"black\" stroke-width=\"0\" cx=\"770.36\" cy=\"-149.99\" rx=\"88.71\" ry=\"18\"/>\n",
       "<text text-anchor=\"middle\" x=\"770.36\" y=\"-144.94\" font-family=\"Times,serif\" font-size=\"14.00\">FolderData (114140)</text>\n",
       "</g>\n",
       "<!-- N114138&#45;&gt;N114140 -->\n",
       "<g id=\"edge8\" class=\"edge\">\n",
       "<title>N114138&#45;&gt;N114140</title>\n",
       "<path fill=\"none\" stroke=\"#000000\" d=\"M535.8,-149.99C577.1,-149.99 627.18,-149.99 670.36,-149.99\"/>\n",
       "<polygon fill=\"#000000\" stroke=\"#000000\" points=\"670.25,-153.49 680.25,-149.99 670.25,-146.49 670.25,-153.49\"/>\n",
       "<text text-anchor=\"middle\" x=\"604.51\" y=\"-169.69\" font-family=\"Times,serif\" font-size=\"14.00\">CREATE</text>\n",
       "<text text-anchor=\"middle\" x=\"604.51\" y=\"-153.19\" font-family=\"Times,serif\" font-size=\"14.00\">retrieved</text>\n",
       "</g>\n",
       "<!-- N114141 -->\n",
       "<g id=\"node9\" class=\"node\">\n",
       "<title>N114141</title>\n",
       "<ellipse fill=\"#8cd499\" stroke=\"black\" stroke-width=\"0\" cx=\"770.36\" cy=\"-93.99\" rx=\"63.12\" ry=\"18\"/>\n",
       "<text text-anchor=\"middle\" x=\"770.36\" y=\"-88.94\" font-family=\"Times,serif\" font-size=\"14.00\">Dict (114141)</text>\n",
       "</g>\n",
       "<!-- N114138&#45;&gt;N114141 -->\n",
       "<g id=\"edge6\" class=\"edge\">\n",
       "<title>N114138&#45;&gt;N114141</title>\n",
       "<path fill=\"none\" stroke=\"#000000\" d=\"M523.94,-121.25C533.88,-118.05 544.05,-115.17 553.88,-112.99 600.56,-102.64 654.11,-97.89 696.15,-95.72\"/>\n",
       "<polygon fill=\"#000000\" stroke=\"#000000\" points=\"696.07,-99.23 705.9,-95.26 695.74,-92.24 696.07,-99.23\"/>\n",
       "<text text-anchor=\"middle\" x=\"604.51\" y=\"-132.69\" font-family=\"Times,serif\" font-size=\"14.00\">CREATE</text>\n",
       "<text text-anchor=\"middle\" x=\"604.51\" y=\"-116.19\" font-family=\"Times,serif\" font-size=\"14.00\">output_parameters</text>\n",
       "</g>\n",
       "</g>\n",
       "</svg>\n"
      ],
      "text/plain": [
       "<graphviz.graphs.Digraph at 0x30070ba70>"
      ]
     },
     "execution_count": 7,
     "metadata": {},
     "output_type": "execute_result"
    }
   ],
   "source": [
    "from aiida.tools.visualization import Graph\n",
    "graph = Graph(graph_attr={\"size\": \"6,6!\", \"rankdir\": \"LR\"})\n",
    "graph.add_incoming(calc_node.uuid,\n",
    "                   annotate_links=\"both\")\n",
    "graph.add_outgoing(calc_node.uuid,\n",
    "                   annotate_links=\"both\")\n",
    "graph.graphviz"
   ]
  },
  {
   "cell_type": "code",
   "execution_count": 8,
   "metadata": {},
   "outputs": [
    {
     "name": "stdout",
     "output_type": "stream",
     "text": [
      "dict_keys(['cc_properties', 'bcp_properties', 'graph_descriptor', 'group_descriptor', 'atomic_properties'])\n"
     ]
    }
   ],
   "source": [
    "out_dict = load_node(114141).get_dict()\n",
    "print(out_dict.keys())"
   ]
  },
  {
   "cell_type": "markdown",
   "metadata": {},
   "source": [
    "Here, we see we have the usual output from before - cc_properties, bcp_properties, atomic_properties. These are identical to the AimqbBaseParser. The group parser additionall provides the graph_descriptor and group_descriptor keys. The graph descriptor focuses on properties of the atom that is attached to the substrate - it collects the atomic properties for that atom, and the CC and BCP properties for all charge concentrations and BCPs associated with it. In this way, the substituent is described by these properties."
   ]
  },
  {
   "cell_type": "code",
   "execution_count": 9,
   "metadata": {},
   "outputs": [
    {
     "data": {
      "text/plain": [
       "dict_keys(['attached_cc_props', 'attached_bcp_props', 'attached_atomic_props'])"
      ]
     },
     "execution_count": 9,
     "metadata": {},
     "output_type": "execute_result"
    }
   ],
   "source": [
    "out_dict['graph_descriptor'].keys()"
   ]
  },
  {
   "cell_type": "markdown",
   "metadata": {},
   "source": [
    "\n",
    "The group descriptor focuses on summing the integrated properties as described above. It has similar keys the keys of a given atom in atomic_properties, but summed over the atoms defined in group_atoms in the input."
   ]
  },
  {
   "cell_type": "code",
   "execution_count": 11,
   "metadata": {},
   "outputs": [
    {
     "data": {
      "text/plain": [
       "dict_keys(['K', 'q', 'Vol', 'Mu_X', 'Mu_Y', 'Mu_Z', 'Q_xx', 'Q_xy', 'Q_xz', 'Q_yy', 'Q_yz', 'Q_zz', '|Mu|', 'K_Scaled', 'Mu_Bond_X', 'Mu_Bond_Y', 'Mu_Bond_Z', '|Mu_Bond|', 'Mu_Intra_X', 'Mu_Intra_Y', 'Mu_Intra_Z', '|Mu_Intra|'])"
      ]
     },
     "execution_count": 11,
     "metadata": {},
     "output_type": "execute_result"
    }
   ],
   "source": [
    "out_dict['group_descriptor'].keys()"
   ]
  }
 ],
 "metadata": {
  "kernelspec": {
   "display_name": "aiida",
   "language": "python",
   "name": "python3"
  },
  "language_info": {
   "codemirror_mode": {
    "name": "ipython",
    "version": 3
   },
   "file_extension": ".py",
   "mimetype": "text/x-python",
   "name": "python",
   "nbconvert_exporter": "python",
   "pygments_lexer": "ipython3",
   "version": "3.12.3"
  }
 },
 "nbformat": 4,
 "nbformat_minor": 2
}
