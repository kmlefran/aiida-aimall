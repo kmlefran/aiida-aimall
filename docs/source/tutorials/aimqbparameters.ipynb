{
 "cells": [
  {
   "cell_type": "markdown",
   "metadata": {},
   "source": [
    "# Creating AimqbParameters data types"
   ]
  },
  {
   "cell_type": "markdown",
   "metadata": {},
   "source": [
    "`aiida-aimall` provides a data class to validate the inputs to `AIMQB`. This is provided throught the `AimqbParameters` from `aiida-aimall.data`. `AimqbParameters` takes a dictionary as input and validates that the keys are valid AIMQB command line input, and that their associated values of the correct datatype. Further, for use in `aiida-aimall` calculations and workflows, the `nogui` option is automatically added.\n",
    "\n",
    "## Supported Options\n",
    "\n",
    "The list of supported command line options match the documentation on [AIMAll's website](https://aim.tkgristmill.com/manual/aimqb/aimqb.html). For meaning of each option, please refer to the AIMQB manual. The list of supported options is given here. Currently, only the datatype is verified; checks are not in place to ensure that strings are in a set of accepted values, for instance.\n",
    "\n",
    "| Command Line      | Data Type |\n",
    "| ----------- | ----------- |\n",
    "| bim      | str       |\n",
    "| iasmesh   | str        |\n",
    "| capture | str |\n",
    "| boaq | str|\n",
    "| ehren | int|\n",
    "| feynman | bool | \n",
    "| iasprops | bool |\n",
    "| magprops | bool |\n",
    "|source | bool |\n",
    "| iaswrite  |bool |\n",
    "| atidsprop | str|\n",
    "| encomp | int | \n",
    "|warn | bool |\n",
    "| scp | str|\n",
    "|delmog | bool |\n",
    "| skipint | bool |\n",
    "| f2w | str | \n",
    "| f2wonly | bool |\n",
    "|atoms | str|\n",
    "|mir | float|\n",
    "|cpconn | str |\n",
    "|intveeaa| str |\n",
    "|atlaprhocps | bool |\n",
    "|wsp | bool |\n",
    "| nproc | int |\n",
    "| naat | int |\n",
    "|shm_lmax | int|\n",
    "|maxmem | int |\n",
    "|verifyw | str|\n",
    "|saw| bool| \n",
    "|autonnacps | bool|\n",
    "\n"
   ]
  },
  {
   "cell_type": "markdown",
   "metadata": {},
   "source": [
    "## Creating AimqbParameters\n",
    "\n",
    "Creating `AimqbParameters` is straightforward, as presented in the following code."
   ]
  },
  {
   "cell_type": "code",
   "execution_count": 6,
   "metadata": {},
   "outputs": [],
   "source": [
    "from aiida.plugins import DataFactory\n",
    "from aiida import load_profile\n",
    "\n",
    "load_profile()\n",
    "AimqbParameters = DataFactory('aimall.aimqb')\n",
    "\n",
    "aim_input = AimqbParameters(parameter_dict={'naat': 2,'nproc':4})"
   ]
  },
  {
   "cell_type": "markdown",
   "metadata": {},
   "source": [
    "You can view the command line parameters that an `AimqbCalculation` will synthesize from the generated data using the `cmdline_params` method, passing an example input file name."
   ]
  },
  {
   "cell_type": "code",
   "execution_count": 5,
   "metadata": {},
   "outputs": [
    {
     "data": {
      "text/plain": [
       "['-naat=2', '-nproc=4', '-nogui', 'input_file.wfx']"
      ]
     },
     "execution_count": 5,
     "metadata": {},
     "output_type": "execute_result"
    }
   ],
   "source": [
    "aim_input.cmdline_params('input_file.wfx')"
   ]
  },
  {
   "cell_type": "markdown",
   "metadata": {},
   "source": [
    "Further you can view the data as a string using the `__str__` method."
   ]
  },
  {
   "cell_type": "code",
   "execution_count": 8,
   "metadata": {},
   "outputs": [
    {
     "data": {
      "text/plain": [
       "\"uuid: 7fdc4972-c183-403f-98a2-55092e81467b (unstored)\\n{'naat': 2, 'nproc': 4}\""
      ]
     },
     "execution_count": 8,
     "metadata": {},
     "output_type": "execute_result"
    }
   ],
   "source": [
    "aim_input.__str__()"
   ]
  },
  {
   "cell_type": "markdown",
   "metadata": {},
   "source": [
    "Passing an incorrect datatype for any given key will result in an error."
   ]
  },
  {
   "cell_type": "code",
   "execution_count": 9,
   "metadata": {},
   "outputs": [
    {
     "ename": "MultipleInvalid",
     "evalue": "expected int for dictionary value @ data['naat']",
     "output_type": "error",
     "traceback": [
      "\u001b[0;31m---------------------------------------------------------------------------\u001b[0m",
      "\u001b[0;31mMultipleInvalid\u001b[0m                           Traceback (most recent call last)",
      "Cell \u001b[0;32mIn[9], line 1\u001b[0m\n\u001b[0;32m----> 1\u001b[0m aim_input \u001b[38;5;241m=\u001b[39m \u001b[43mAimqbParameters\u001b[49m\u001b[43m(\u001b[49m\u001b[43mparameter_dict\u001b[49m\u001b[38;5;241;43m=\u001b[39;49m\u001b[43m{\u001b[49m\u001b[38;5;124;43m'\u001b[39;49m\u001b[38;5;124;43mnaat\u001b[39;49m\u001b[38;5;124;43m'\u001b[39;49m\u001b[43m:\u001b[49m\u001b[43m \u001b[49m\u001b[38;5;124;43m'\u001b[39;49m\u001b[38;5;124;43mtwo\u001b[39;49m\u001b[38;5;124;43m'\u001b[39;49m\u001b[43m,\u001b[49m\u001b[38;5;124;43m'\u001b[39;49m\u001b[38;5;124;43mnproc\u001b[39;49m\u001b[38;5;124;43m'\u001b[39;49m\u001b[43m:\u001b[49m\u001b[38;5;241;43m4\u001b[39;49m\u001b[43m}\u001b[49m\u001b[43m)\u001b[49m\n",
      "File \u001b[0;32m~/Documents/KLGNotes/PythonPackages/aiida-aimall/src/aiida_aimall/data/__init__.py:68\u001b[0m, in \u001b[0;36mAimqbParameters.__init__\u001b[0;34m(self, parameter_dict, **kwargs)\u001b[0m\n\u001b[1;32m     59\u001b[0m \u001b[38;5;28;01mdef\u001b[39;00m \u001b[38;5;21m__init__\u001b[39m(\u001b[38;5;28mself\u001b[39m, parameter_dict\u001b[38;5;241m=\u001b[39m\u001b[38;5;28;01mNone\u001b[39;00m, \u001b[38;5;241m*\u001b[39m\u001b[38;5;241m*\u001b[39mkwargs):\n\u001b[1;32m     60\u001b[0m \u001b[38;5;250m    \u001b[39m\u001b[38;5;124;03m\"\"\"Constructor for the data class\u001b[39;00m\n\u001b[1;32m     61\u001b[0m \n\u001b[1;32m     62\u001b[0m \u001b[38;5;124;03m    Usage: ``AimqbParameters(parameter_dict{'ignore-case': True})``\u001b[39;00m\n\u001b[0;32m   (...)\u001b[0m\n\u001b[1;32m     66\u001b[0m \n\u001b[1;32m     67\u001b[0m \u001b[38;5;124;03m    \"\"\"\u001b[39;00m\n\u001b[0;32m---> 68\u001b[0m     parameter_dict \u001b[38;5;241m=\u001b[39m \u001b[38;5;28;43mself\u001b[39;49m\u001b[38;5;241;43m.\u001b[39;49m\u001b[43mvalidate\u001b[49m\u001b[43m(\u001b[49m\u001b[43mparameter_dict\u001b[49m\u001b[43m)\u001b[49m\n\u001b[1;32m     69\u001b[0m     \u001b[38;5;28msuper\u001b[39m()\u001b[38;5;241m.\u001b[39m\u001b[38;5;21m__init__\u001b[39m(\u001b[38;5;28mdict\u001b[39m\u001b[38;5;241m=\u001b[39mparameter_dict, \u001b[38;5;241m*\u001b[39m\u001b[38;5;241m*\u001b[39mkwargs)\n",
      "File \u001b[0;32m~/Documents/KLGNotes/PythonPackages/aiida-aimall/src/aiida_aimall/data/__init__.py:82\u001b[0m, in \u001b[0;36mAimqbParameters.validate\u001b[0;34m(self, parameters_dict)\u001b[0m\n\u001b[1;32m     71\u001b[0m \u001b[38;5;28;01mdef\u001b[39;00m \u001b[38;5;21mvalidate\u001b[39m(\u001b[38;5;28mself\u001b[39m, parameters_dict):\n\u001b[1;32m     72\u001b[0m \u001b[38;5;250m    \u001b[39m\u001b[38;5;124;03m\"\"\"Validate command line options.\u001b[39;00m\n\u001b[1;32m     73\u001b[0m \n\u001b[1;32m     74\u001b[0m \u001b[38;5;124;03m    Uses the voluptuous package for validation. Find out about allowed keys using::\u001b[39;00m\n\u001b[0;32m   (...)\u001b[0m\n\u001b[1;32m     80\u001b[0m \u001b[38;5;124;03m    :returns: validated dictionary\u001b[39;00m\n\u001b[1;32m     81\u001b[0m \u001b[38;5;124;03m    \"\"\"\u001b[39;00m\n\u001b[0;32m---> 82\u001b[0m     \u001b[38;5;28;01mreturn\u001b[39;00m \u001b[43mAimqbParameters\u001b[49m\u001b[38;5;241;43m.\u001b[39;49m\u001b[43mschema\u001b[49m\u001b[43m(\u001b[49m\u001b[43mparameters_dict\u001b[49m\u001b[43m)\u001b[49m\n",
      "File \u001b[0;32m~/anaconda3/envs/aiida/lib/python3.12/site-packages/voluptuous/schema_builder.py:281\u001b[0m, in \u001b[0;36mSchema.__call__\u001b[0;34m(self, data)\u001b[0m\n\u001b[1;32m    279\u001b[0m \u001b[38;5;250m\u001b[39m\u001b[38;5;124;03m\"\"\"Validate data against this schema.\"\"\"\u001b[39;00m\n\u001b[1;32m    280\u001b[0m \u001b[38;5;28;01mtry\u001b[39;00m:\n\u001b[0;32m--> 281\u001b[0m     \u001b[38;5;28;01mreturn\u001b[39;00m \u001b[38;5;28;43mself\u001b[39;49m\u001b[38;5;241;43m.\u001b[39;49m\u001b[43m_compiled\u001b[49m\u001b[43m(\u001b[49m\u001b[43m[\u001b[49m\u001b[43m]\u001b[49m\u001b[43m,\u001b[49m\u001b[43m \u001b[49m\u001b[43mdata\u001b[49m\u001b[43m)\u001b[49m\n\u001b[1;32m    282\u001b[0m \u001b[38;5;28;01mexcept\u001b[39;00m er\u001b[38;5;241m.\u001b[39mMultipleInvalid:\n\u001b[1;32m    283\u001b[0m     \u001b[38;5;28;01mraise\u001b[39;00m\n",
      "File \u001b[0;32m~/anaconda3/envs/aiida/lib/python3.12/site-packages/voluptuous/schema_builder.py:625\u001b[0m, in \u001b[0;36mSchema._compile_dict.<locals>.validate_dict\u001b[0;34m(path, data)\u001b[0m\n\u001b[1;32m    622\u001b[0m     \u001b[38;5;28;01mraise\u001b[39;00m er\u001b[38;5;241m.\u001b[39mMultipleInvalid(errors)\n\u001b[1;32m    624\u001b[0m out \u001b[38;5;241m=\u001b[39m data\u001b[38;5;241m.\u001b[39m\u001b[38;5;18m__class__\u001b[39m()\n\u001b[0;32m--> 625\u001b[0m \u001b[38;5;28;01mreturn\u001b[39;00m \u001b[43mbase_validate\u001b[49m\u001b[43m(\u001b[49m\u001b[43mpath\u001b[49m\u001b[43m,\u001b[49m\u001b[43m \u001b[49m\u001b[43mdata\u001b[49m\u001b[38;5;241;43m.\u001b[39;49m\u001b[43mitems\u001b[49m\u001b[43m(\u001b[49m\u001b[43m)\u001b[49m\u001b[43m,\u001b[49m\u001b[43m \u001b[49m\u001b[43mout\u001b[49m\u001b[43m)\u001b[49m\n",
      "File \u001b[0;32m~/anaconda3/envs/aiida/lib/python3.12/site-packages/voluptuous/schema_builder.py:458\u001b[0m, in \u001b[0;36mSchema._compile_mapping.<locals>.validate_mapping\u001b[0;34m(path, iterable, out)\u001b[0m\n\u001b[1;32m    456\u001b[0m     errors\u001b[38;5;241m.\u001b[39mappend(er\u001b[38;5;241m.\u001b[39mRequiredFieldInvalid(msg, path \u001b[38;5;241m+\u001b[39m [key]))\n\u001b[1;32m    457\u001b[0m \u001b[38;5;28;01mif\u001b[39;00m errors:\n\u001b[0;32m--> 458\u001b[0m     \u001b[38;5;28;01mraise\u001b[39;00m er\u001b[38;5;241m.\u001b[39mMultipleInvalid(errors)\n\u001b[1;32m    460\u001b[0m \u001b[38;5;28;01mreturn\u001b[39;00m out\n",
      "\u001b[0;31mMultipleInvalid\u001b[0m: expected int for dictionary value @ data['naat']"
     ]
    }
   ],
   "source": [
    "aim_input = AimqbParameters(parameter_dict={'naat': 'two','nproc':4})"
   ]
  },
  {
   "cell_type": "markdown",
   "metadata": {},
   "source": []
  }
 ],
 "metadata": {
  "kernelspec": {
   "display_name": "aiida",
   "language": "python",
   "name": "python3"
  },
  "language_info": {
   "codemirror_mode": {
    "name": "ipython",
    "version": 3
   },
   "file_extension": ".py",
   "mimetype": "text/x-python",
   "name": "python",
   "nbconvert_exporter": "python",
   "pygments_lexer": "ipython3",
   "version": "3.12.3"
  }
 },
 "nbformat": 4,
 "nbformat_minor": 2
}
