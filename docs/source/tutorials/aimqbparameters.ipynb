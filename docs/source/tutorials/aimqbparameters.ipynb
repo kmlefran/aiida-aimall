{
 "cells": [
  {
   "cell_type": "markdown",
   "metadata": {},
   "source": [
    "# Creating Instances of the AimqbParameters Data Type"
   ]
  },
  {
   "cell_type": "markdown",
   "metadata": {},
   "source": [
    "`aiida-aimall` provides a data class to validate the inputs provided to `AIMQB`. This is provided through the [AimqbParameters](../reference/api/auto/aiida_aimall/data/index.rst#aiida_aimall.data.AimqbParameters) from `aiida_aimall.data`. `AimqbParameters` takes a dictionary as input and validates that the keys are valid AIMQB command line input, and that their associated values are of the correct datatype. These parameters are then used in [AimqbCalculations](../reference/api/auto/aiida_aimall/calculations/index.rst#aiida_aimall.calculations.AimqbCalculation) Further, for use in `aiida-aimall` calculations and workflows, the `nogui` option is automatically added for all instances of `AimqbParameters`. Therefore, the `nogui` option should not be passed as `AimqbParameters` input.\n",
    "\n",
    "## Supported Options\n",
    "\n",
    "The list of supported command line options from [AIMAll's website](https://aim.tkgristmill.com/manual/aimqb/aimqb.html) is given in the below table. Currently, only the datatype is verified; checks are not in place to ensure that strings are in a set of accepted values. For instance, `iasmesh` should be one of sparse/medium/fine/veryfine/superfine, but `AimqbParameters` only validates that a string was provided. If an incorrect option were provided, the `AimqbCalculation` that these parameters were provided to would fail.\n",
    "\n",
    "| Command Line      | Data Type | Description | Valid Options | Default |\n",
    "| ----------- | ----------- | ----------- | ----------- |----------- |\n",
    "| bim      | str       | Basin integration method | auto/proaim/promega/promega1/promega5 | auto |\n",
    "| iasmesh   | str        | Target spacing between adjacent IAS paths | sparse/medium/fine/veryfine/superfine | fine |\n",
    "| capture | str | Gradient path capture method | auto/basic/extended | auto |\n",
    "| boaq | str| Basin outer angular quadrature | auto/auto_gs2/auto_gs4/gs1/gs2/gs3/gs4/gs5/gs6 /gs7/gs8/gs9/gs10/gs15/gs20/gs25 /gs30/gs35/gs40/gs45/gs50/gs55/gs60 /leb23/leb25/leb27/leb29/leb31/leb32 | auto |\n",
    "| ehren | int| Whether and how to calculate atomic Ehrenfest forces | 0/1/2 | 0 |\n",
    "| feynman | bool | Print Feynman force data to file | False/True  | False |\n",
    "| iasprops | bool | Calculate IAS Properties | False/True | False |\n",
    "| magprops | str | Method for calculating magnetic response properties | none/igaim/csgtb/giao | none |\n",
    "|source | bool | Print atomic source contributions to electron density at critical points | False/True | False |\n",
    "| iaswrite  |bool | Write IAS data to .iasviz files | False/True | False | \n",
    "| atidsprop | str| Controls calculation of isodensity surface properties | no/0.001/all | 0.001 |\n",
    "| encomp | int | Atomic energy components to calculate | 0/1/2/3/4 | 1 |\n",
    "|warn | bool | Show warning message boxes when appropriate | False/True | True |\n",
    "| scp | str| Show calculation progress in log window | false/true/some | some |\n",
    "|delmog | bool | Delete the .mog files | False/True | True | \n",
    "| skipint | bool | Skip atomic integrations | False/True | False |\n",
    "| f2w | str | Filetype to create from .fchk | wfx/wfn | wfx |\n",
    "| f2wonly | bool | Only create wfx from .fchk, not run calculation | False/True | False | \n",
    "|atoms | str| Which atoms to determine critical point connectivity and properties | all/i,j,k... (i,j,k... atoms to calculate), all_i,j,k | all |\n",
    "|mir | float| Maximum atomic integration radius | auto/10.0/12.0/13.5/etc. | auto\n",
    "|cpconn | str | Intensity of search for connectivity between CPs | moderate/complex/simple/basic | moderate |\n",
    "|intveeaa| str | Algorithm for Vee(A,A) calculatiosn | old/new | new |\n",
    "|atlaprhocps | bool | Find Laplacian of Electron Density Critical Points | False/True | False |\n",
    "|wsp | bool | Wrote a molecular graph and other special GradRho paths to .mgpviz | False/True | True |\n",
    "| nproc | int | Number of processors to use  | 1/2/etc. | 1|\n",
    "| naat | int | Number of atoms to calculate at a time | 1/2/etc. | 1 | \n",
    "|shm_lmax | int| Controls printing of Spherical Harmonic Moments | -1/0/1/2/etc. |  5 |\n",
    "|maxmem | int | Memory to use | 800/1200/1800/2400/etc. | 800 for 32 bit, 2400 for 64 bit |\n",
    "|verifyw | str| Whether to verify wavefunction or ONLY verify wavefunction | yes/no/only | yes | \n",
    "|saw| bool| *No description in documentation* |False/True | False |\n",
    "|autonnacps | bool| Automatically incorporate NNACPs | False/True | True |"
   ]
  },
  {
   "cell_type": "markdown",
   "metadata": {},
   "source": [
    "## Creating AimqbParameters\n",
    "\n",
    "Creating `AimqbParameters` is straightforward, as presented in the following code."
   ]
  },
  {
   "cell_type": "code",
   "execution_count": 6,
   "metadata": {},
   "outputs": [],
   "source": [
    "from aiida.plugins import DataFactory\n",
    "from aiida import load_profile\n",
    "\n",
    "load_profile()\n",
    "AimqbParameters = DataFactory('aimall.aimqb')\n",
    "\n",
    "aim_input = AimqbParameters(parameter_dict={'naat': 2,'nproc':4})"
   ]
  },
  {
   "cell_type": "markdown",
   "metadata": {},
   "source": [
    "You can view the command line parameters that an `AimqbCalculation` will synthesize from the generated data using the `cmdline_params` method, passing an example input file name. Note how `-nogui` is included despite not being provided to `AimqbParameters`."
   ]
  },
  {
   "cell_type": "code",
   "execution_count": 5,
   "metadata": {},
   "outputs": [
    {
     "data": {
      "text/plain": [
       "['-naat=2', '-nproc=4', '-nogui', 'input_file.wfx']"
      ]
     },
     "execution_count": 5,
     "metadata": {},
     "output_type": "execute_result"
    }
   ],
   "source": [
    "aim_input.cmdline_params('input_file.wfx')"
   ]
  },
  {
   "cell_type": "markdown",
   "metadata": {},
   "source": [
    "Further you can view the data as a string using the `__str__` method."
   ]
  },
  {
   "cell_type": "code",
   "execution_count": 8,
   "metadata": {},
   "outputs": [
    {
     "data": {
      "text/plain": [
       "\"uuid: 7fdc4972-c183-403f-98a2-55092e81467b (unstored)\\n{'naat': 2, 'nproc': 4}\""
      ]
     },
     "execution_count": 8,
     "metadata": {},
     "output_type": "execute_result"
    }
   ],
   "source": [
    "aim_input.__str__()"
   ]
  },
  {
   "cell_type": "markdown",
   "metadata": {},
   "source": [
    "Passing an incorrect datatype for any given key will result in an error, as seen below when a string 'two' is passed to `naat`."
   ]
  },
  {
   "cell_type": "code",
   "execution_count": 9,
   "metadata": {},
   "outputs": [
    {
     "ename": "MultipleInvalid",
     "evalue": "expected int for dictionary value @ data['naat']",
     "output_type": "error",
     "traceback": [
      "\u001b[0;31m---------------------------------------------------------------------------\u001b[0m",
      "\u001b[0;31mMultipleInvalid\u001b[0m                           Traceback (most recent call last)",
      "Cell \u001b[0;32mIn[9], line 1\u001b[0m\n\u001b[0;32m----> 1\u001b[0m aim_input \u001b[38;5;241m=\u001b[39m \u001b[43mAimqbParameters\u001b[49m\u001b[43m(\u001b[49m\u001b[43mparameter_dict\u001b[49m\u001b[38;5;241;43m=\u001b[39;49m\u001b[43m{\u001b[49m\u001b[38;5;124;43m'\u001b[39;49m\u001b[38;5;124;43mnaat\u001b[39;49m\u001b[38;5;124;43m'\u001b[39;49m\u001b[43m:\u001b[49m\u001b[43m \u001b[49m\u001b[38;5;124;43m'\u001b[39;49m\u001b[38;5;124;43mtwo\u001b[39;49m\u001b[38;5;124;43m'\u001b[39;49m\u001b[43m,\u001b[49m\u001b[38;5;124;43m'\u001b[39;49m\u001b[38;5;124;43mnproc\u001b[39;49m\u001b[38;5;124;43m'\u001b[39;49m\u001b[43m:\u001b[49m\u001b[38;5;241;43m4\u001b[39;49m\u001b[43m}\u001b[49m\u001b[43m)\u001b[49m\n",
      "File \u001b[0;32m~/Documents/KLGNotes/PythonPackages/aiida-aimall/src/aiida_aimall/data/__init__.py:68\u001b[0m, in \u001b[0;36mAimqbParameters.__init__\u001b[0;34m(self, parameter_dict, **kwargs)\u001b[0m\n\u001b[1;32m     59\u001b[0m \u001b[38;5;28;01mdef\u001b[39;00m \u001b[38;5;21m__init__\u001b[39m(\u001b[38;5;28mself\u001b[39m, parameter_dict\u001b[38;5;241m=\u001b[39m\u001b[38;5;28;01mNone\u001b[39;00m, \u001b[38;5;241m*\u001b[39m\u001b[38;5;241m*\u001b[39mkwargs):\n\u001b[1;32m     60\u001b[0m \u001b[38;5;250m    \u001b[39m\u001b[38;5;124;03m\"\"\"Constructor for the data class\u001b[39;00m\n\u001b[1;32m     61\u001b[0m \n\u001b[1;32m     62\u001b[0m \u001b[38;5;124;03m    Usage: ``AimqbParameters(parameter_dict{'ignore-case': True})``\u001b[39;00m\n\u001b[0;32m   (...)\u001b[0m\n\u001b[1;32m     66\u001b[0m \n\u001b[1;32m     67\u001b[0m \u001b[38;5;124;03m    \"\"\"\u001b[39;00m\n\u001b[0;32m---> 68\u001b[0m     parameter_dict \u001b[38;5;241m=\u001b[39m \u001b[38;5;28;43mself\u001b[39;49m\u001b[38;5;241;43m.\u001b[39;49m\u001b[43mvalidate\u001b[49m\u001b[43m(\u001b[49m\u001b[43mparameter_dict\u001b[49m\u001b[43m)\u001b[49m\n\u001b[1;32m     69\u001b[0m     \u001b[38;5;28msuper\u001b[39m()\u001b[38;5;241m.\u001b[39m\u001b[38;5;21m__init__\u001b[39m(\u001b[38;5;28mdict\u001b[39m\u001b[38;5;241m=\u001b[39mparameter_dict, \u001b[38;5;241m*\u001b[39m\u001b[38;5;241m*\u001b[39mkwargs)\n",
      "File \u001b[0;32m~/Documents/KLGNotes/PythonPackages/aiida-aimall/src/aiida_aimall/data/__init__.py:82\u001b[0m, in \u001b[0;36mAimqbParameters.validate\u001b[0;34m(self, parameters_dict)\u001b[0m\n\u001b[1;32m     71\u001b[0m \u001b[38;5;28;01mdef\u001b[39;00m \u001b[38;5;21mvalidate\u001b[39m(\u001b[38;5;28mself\u001b[39m, parameters_dict):\n\u001b[1;32m     72\u001b[0m \u001b[38;5;250m    \u001b[39m\u001b[38;5;124;03m\"\"\"Validate command line options.\u001b[39;00m\n\u001b[1;32m     73\u001b[0m \n\u001b[1;32m     74\u001b[0m \u001b[38;5;124;03m    Uses the voluptuous package for validation. Find out about allowed keys using::\u001b[39;00m\n\u001b[0;32m   (...)\u001b[0m\n\u001b[1;32m     80\u001b[0m \u001b[38;5;124;03m    :returns: validated dictionary\u001b[39;00m\n\u001b[1;32m     81\u001b[0m \u001b[38;5;124;03m    \"\"\"\u001b[39;00m\n\u001b[0;32m---> 82\u001b[0m     \u001b[38;5;28;01mreturn\u001b[39;00m \u001b[43mAimqbParameters\u001b[49m\u001b[38;5;241;43m.\u001b[39;49m\u001b[43mschema\u001b[49m\u001b[43m(\u001b[49m\u001b[43mparameters_dict\u001b[49m\u001b[43m)\u001b[49m\n",
      "File \u001b[0;32m~/anaconda3/envs/aiida/lib/python3.12/site-packages/voluptuous/schema_builder.py:281\u001b[0m, in \u001b[0;36mSchema.__call__\u001b[0;34m(self, data)\u001b[0m\n\u001b[1;32m    279\u001b[0m \u001b[38;5;250m\u001b[39m\u001b[38;5;124;03m\"\"\"Validate data against this schema.\"\"\"\u001b[39;00m\n\u001b[1;32m    280\u001b[0m \u001b[38;5;28;01mtry\u001b[39;00m:\n\u001b[0;32m--> 281\u001b[0m     \u001b[38;5;28;01mreturn\u001b[39;00m \u001b[38;5;28;43mself\u001b[39;49m\u001b[38;5;241;43m.\u001b[39;49m\u001b[43m_compiled\u001b[49m\u001b[43m(\u001b[49m\u001b[43m[\u001b[49m\u001b[43m]\u001b[49m\u001b[43m,\u001b[49m\u001b[43m \u001b[49m\u001b[43mdata\u001b[49m\u001b[43m)\u001b[49m\n\u001b[1;32m    282\u001b[0m \u001b[38;5;28;01mexcept\u001b[39;00m er\u001b[38;5;241m.\u001b[39mMultipleInvalid:\n\u001b[1;32m    283\u001b[0m     \u001b[38;5;28;01mraise\u001b[39;00m\n",
      "File \u001b[0;32m~/anaconda3/envs/aiida/lib/python3.12/site-packages/voluptuous/schema_builder.py:625\u001b[0m, in \u001b[0;36mSchema._compile_dict.<locals>.validate_dict\u001b[0;34m(path, data)\u001b[0m\n\u001b[1;32m    622\u001b[0m     \u001b[38;5;28;01mraise\u001b[39;00m er\u001b[38;5;241m.\u001b[39mMultipleInvalid(errors)\n\u001b[1;32m    624\u001b[0m out \u001b[38;5;241m=\u001b[39m data\u001b[38;5;241m.\u001b[39m\u001b[38;5;18m__class__\u001b[39m()\n\u001b[0;32m--> 625\u001b[0m \u001b[38;5;28;01mreturn\u001b[39;00m \u001b[43mbase_validate\u001b[49m\u001b[43m(\u001b[49m\u001b[43mpath\u001b[49m\u001b[43m,\u001b[49m\u001b[43m \u001b[49m\u001b[43mdata\u001b[49m\u001b[38;5;241;43m.\u001b[39;49m\u001b[43mitems\u001b[49m\u001b[43m(\u001b[49m\u001b[43m)\u001b[49m\u001b[43m,\u001b[49m\u001b[43m \u001b[49m\u001b[43mout\u001b[49m\u001b[43m)\u001b[49m\n",
      "File \u001b[0;32m~/anaconda3/envs/aiida/lib/python3.12/site-packages/voluptuous/schema_builder.py:458\u001b[0m, in \u001b[0;36mSchema._compile_mapping.<locals>.validate_mapping\u001b[0;34m(path, iterable, out)\u001b[0m\n\u001b[1;32m    456\u001b[0m     errors\u001b[38;5;241m.\u001b[39mappend(er\u001b[38;5;241m.\u001b[39mRequiredFieldInvalid(msg, path \u001b[38;5;241m+\u001b[39m [key]))\n\u001b[1;32m    457\u001b[0m \u001b[38;5;28;01mif\u001b[39;00m errors:\n\u001b[0;32m--> 458\u001b[0m     \u001b[38;5;28;01mraise\u001b[39;00m er\u001b[38;5;241m.\u001b[39mMultipleInvalid(errors)\n\u001b[1;32m    460\u001b[0m \u001b[38;5;28;01mreturn\u001b[39;00m out\n",
      "\u001b[0;31mMultipleInvalid\u001b[0m: expected int for dictionary value @ data['naat']"
     ]
    }
   ],
   "source": [
    "aim_input = AimqbParameters(parameter_dict={'naat': 'two','nproc':4})"
   ]
  }
 ],
 "metadata": {
  "kernelspec": {
   "display_name": "aiida",
   "language": "python",
   "name": "python3"
  },
  "language_info": {
   "codemirror_mode": {
    "name": "ipython",
    "version": 3
   },
   "file_extension": ".py",
   "mimetype": "text/x-python",
   "name": "python",
   "nbconvert_exporter": "python",
   "pygments_lexer": "ipython3",
   "version": "3.12.3"
  }
 },
 "nbformat": 4,
 "nbformat_minor": 2
}
