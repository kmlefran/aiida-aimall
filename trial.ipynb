{
 "cells": [
  {
   "cell_type": "code",
   "execution_count": 1,
   "metadata": {},
   "outputs": [],
   "source": [
    "def aimall_code(aiida_local_code_factory):\n",
    "    \"\"\"Get a aimall code.\"\"\"\n",
    "    return aiida_local_code_factory(\n",
    "        executable=\"aimqb\",\n",
    "        entry_point=\"aimall\",\n",
    "    )"
   ]
  },
  {
   "cell_type": "code",
   "execution_count": 2,
   "metadata": {},
   "outputs": [
    {
     "ename": "ImportError",
     "evalue": "cannot import name 'CodeFactory' from 'aiida.plugins' (/Users/chemlab/anaconda3/envs/aiida3/lib/python3.11/site-packages/aiida/plugins/__init__.py)",
     "output_type": "error",
     "traceback": [
      "\u001b[0;31m---------------------------------------------------------------------------\u001b[0m",
      "\u001b[0;31mImportError\u001b[0m                               Traceback (most recent call last)",
      "\u001b[1;32m/Users/chemlab/Documents/Coding/LearningAiiDa/aiida-aimall/trial.ipynb Cell 2\u001b[0m line \u001b[0;36m1\n\u001b[0;32m----> <a href='vscode-notebook-cell:/Users/chemlab/Documents/Coding/LearningAiiDa/aiida-aimall/trial.ipynb#W1sZmlsZQ%3D%3D?line=0'>1</a>\u001b[0m \u001b[39mfrom\u001b[39;00m \u001b[39maiida\u001b[39;00m\u001b[39m.\u001b[39;00m\u001b[39mplugins\u001b[39;00m \u001b[39mimport\u001b[39;00m CodeFactory\n",
      "\u001b[0;31mImportError\u001b[0m: cannot import name 'CodeFactory' from 'aiida.plugins' (/Users/chemlab/anaconda3/envs/aiida3/lib/python3.11/site-packages/aiida/plugins/__init__.py)"
     ]
    }
   ],
   "source": [
    "from aiida.plugins import CodeFactory"
   ]
  },
  {
   "cell_type": "code",
   "execution_count": 4,
   "metadata": {},
   "outputs": [],
   "source": [
    "pytest_plugins = [\"aiida.manage.tests.pytest_fixtures\"]\n",
    "from aiida.manage.tests.pytest_fixtures import aiida_local_code_factory\n"
   ]
  },
  {
   "cell_type": "code",
   "execution_count": 7,
   "metadata": {},
   "outputs": [],
   "source": [
    "import pytest"
   ]
  },
  {
   "cell_type": "code",
   "execution_count": 8,
   "metadata": {},
   "outputs": [],
   "source": [
    "@pytest.fixture(scope=\"function\")\n",
    "def aimall_code(aiida_local_code_factory):\n",
    "    \"\"\"Get a aimall code.\"\"\"\n",
    "    return aiida_local_code_factory(\n",
    "        executable=\"/Applications/AIMAll/AIMQB.app/Contents/MacOS/aimqb\",\n",
    "        entry_point=\"aimall\",\n",
    "    )"
   ]
  },
  {
   "cell_type": "code",
   "execution_count": 9,
   "metadata": {},
   "outputs": [
    {
     "ename": "Failed",
     "evalue": "Fixture \"aimall_code\" called directly. Fixtures are not meant to be called directly,\nbut are created automatically when test functions request them as parameters.\nSee https://docs.pytest.org/en/stable/explanation/fixtures.html for more information about fixtures, and\nhttps://docs.pytest.org/en/stable/deprecations.html#calling-fixtures-directly about how to update your code.",
     "output_type": "error",
     "traceback": [
      "\u001b[0;31m---------------------------------------------------------------------------\u001b[0m",
      "\u001b[0;31mFailed\u001b[0m                                    Traceback (most recent call last)",
      "\u001b[1;32m/Users/chemlab/Documents/Coding/LearningAiiDa/aiida-aimall/trial.ipynb Cell 6\u001b[0m line \u001b[0;36m1\n\u001b[0;32m----> <a href='vscode-notebook-cell:/Users/chemlab/Documents/Coding/LearningAiiDa/aiida-aimall/trial.ipynb#W3sZmlsZQ%3D%3D?line=0'>1</a>\u001b[0m aimall_code(aiida_local_code_factory)\n",
      "File \u001b[0;32m~/anaconda3/envs/aiida3/lib/python3.11/site-packages/_pytest/fixtures.py:1168\u001b[0m, in \u001b[0;36mwrap_function_to_error_out_if_called_directly.<locals>.result\u001b[0;34m(*args, **kwargs)\u001b[0m\n\u001b[1;32m   1166\u001b[0m \u001b[39m@functools\u001b[39m\u001b[39m.\u001b[39mwraps(function)\n\u001b[1;32m   1167\u001b[0m \u001b[39mdef\u001b[39;00m \u001b[39mresult\u001b[39m(\u001b[39m*\u001b[39margs, \u001b[39m*\u001b[39m\u001b[39m*\u001b[39mkwargs):\n\u001b[0;32m-> 1168\u001b[0m     fail(message, pytrace\u001b[39m=\u001b[39;49m\u001b[39mFalse\u001b[39;49;00m)\n",
      "File \u001b[0;32m~/anaconda3/envs/aiida3/lib/python3.11/site-packages/_pytest/outcomes.py:198\u001b[0m, in \u001b[0;36mfail\u001b[0;34m(reason, pytrace, msg)\u001b[0m\n\u001b[1;32m    196\u001b[0m __tracebackhide__ \u001b[39m=\u001b[39m \u001b[39mTrue\u001b[39;00m\n\u001b[1;32m    197\u001b[0m reason \u001b[39m=\u001b[39m _resolve_msg_to_reason(\u001b[39m\"\u001b[39m\u001b[39mfail\u001b[39m\u001b[39m\"\u001b[39m, reason, msg)\n\u001b[0;32m--> 198\u001b[0m \u001b[39mraise\u001b[39;00m Failed(msg\u001b[39m=\u001b[39mreason, pytrace\u001b[39m=\u001b[39mpytrace)\n",
      "\u001b[0;31mFailed\u001b[0m: Fixture \"aimall_code\" called directly. Fixtures are not meant to be called directly,\nbut are created automatically when test functions request them as parameters.\nSee https://docs.pytest.org/en/stable/explanation/fixtures.html for more information about fixtures, and\nhttps://docs.pytest.org/en/stable/deprecations.html#calling-fixtures-directly about how to update your code."
     ]
    }
   ],
   "source": [
    "aimall_code(aiida_local_code_factory)"
   ]
  },
  {
   "cell_type": "code",
   "execution_count": 10,
   "metadata": {},
   "outputs": [
    {
     "data": {
      "application/json": {
       "current_state": "Loaded AiiDA DB environment - profile name: ifgtest."
      },
      "text/html": [
       "<p>Loaded AiiDA DB environment - profile name: ifgtest.</p>"
      ],
      "text/latex": [
       "Loaded AiiDA DB environment - profile name: ifgtest.\n"
      ],
      "text/plain": [
       "Loaded AiiDA DB environment - profile name: ifgtest.\n"
      ]
     },
     "execution_count": 10,
     "metadata": {},
     "output_type": "execute_result"
    }
   ],
   "source": [
    "%load_ext aiida\n",
    "%aiida"
   ]
  },
  {
   "cell_type": "code",
   "execution_count": 12,
   "metadata": {},
   "outputs": [
    {
     "name": "stdout",
     "output_type": "stream",
     "text": [
      "\u001b[22m-----------------------  ---------------------------------------------------\n",
      "PK                       101\n",
      "UUID                     2605da63-cacf-4282-ad2f-0d71a1160ce6\n",
      "Type                     core.code.installed\n",
      "Computer                 gtest (localhost), pk: 1\n",
      "Filepath executable      /Applications/AIMAll/AIMQB.app/Contents/MacOS/aimqb\n",
      "Label                    aimall2\n",
      "Description              AIM QB\n",
      "Default calc job plugin  aimall2\n",
      "Use double quotes        True\n",
      "With mpi\n",
      "Prepend text\n",
      "Append text\n",
      "-----------------------  ---------------------------------------------------\u001b[0m\n"
     ]
    }
   ],
   "source": [
    "%verdi code show aimall2"
   ]
  },
  {
   "cell_type": "code",
   "execution_count": 2,
   "metadata": {},
   "outputs": [
    {
     "data": {
      "text/plain": [
       "'/Applications/AIMAll/AIMQB.app/Contents/MacOS/aimqb'"
      ]
     },
     "execution_count": 2,
     "metadata": {},
     "output_type": "execute_result"
    }
   ],
   "source": [
    "import shutil\n",
    "shutil.which('/Applications/AIMAll/AIMQB.app/Contents/MacOS/aimqb')"
   ]
  },
  {
   "cell_type": "code",
   "execution_count": null,
   "metadata": {},
   "outputs": [],
   "source": []
  }
 ],
 "metadata": {
  "kernelspec": {
   "display_name": "aiida3",
   "language": "python",
   "name": "python3"
  },
  "language_info": {
   "codemirror_mode": {
    "name": "ipython",
    "version": 3
   },
   "file_extension": ".py",
   "mimetype": "text/x-python",
   "name": "python",
   "nbconvert_exporter": "python",
   "pygments_lexer": "ipython3",
   "version": "3.11.5"
  },
  "orig_nbformat": 4
 },
 "nbformat": 4,
 "nbformat_minor": 2
}
